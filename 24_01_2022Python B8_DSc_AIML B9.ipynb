{
 "cells": [
  {
   "cell_type": "code",
   "execution_count": 1,
   "id": "2f316417",
   "metadata": {},
   "outputs": [],
   "source": [
    "# modulo string formatting in python  \n",
    "# django introduction \n",
    "# postgresql in python \n"
   ]
  },
  {
   "cell_type": "code",
   "execution_count": 2,
   "id": "62da2752",
   "metadata": {},
   "outputs": [
    {
     "data": {
      "text/plain": [
       "3.6666666666666665"
      ]
     },
     "execution_count": 2,
     "metadata": {},
     "output_type": "execute_result"
    }
   ],
   "source": [
    "11/3"
   ]
  },
  {
   "cell_type": "code",
   "execution_count": 3,
   "id": "7cd69c84",
   "metadata": {},
   "outputs": [
    {
     "data": {
      "text/plain": [
       "3"
      ]
     },
     "execution_count": 3,
     "metadata": {},
     "output_type": "execute_result"
    }
   ],
   "source": [
    "11//3"
   ]
  },
  {
   "cell_type": "code",
   "execution_count": 4,
   "id": "add9d6a0",
   "metadata": {},
   "outputs": [
    {
     "data": {
      "text/plain": [
       "2"
      ]
     },
     "execution_count": 4,
     "metadata": {},
     "output_type": "execute_result"
    }
   ],
   "source": [
    "11%3"
   ]
  },
  {
   "cell_type": "code",
   "execution_count": 5,
   "id": "1a75a115",
   "metadata": {},
   "outputs": [],
   "source": [
    "marks = 78.89"
   ]
  },
  {
   "cell_type": "code",
   "execution_count": 6,
   "id": "29aaeb0a",
   "metadata": {},
   "outputs": [
    {
     "data": {
      "text/plain": [
       "float"
      ]
     },
     "execution_count": 6,
     "metadata": {},
     "output_type": "execute_result"
    }
   ],
   "source": [
    "type(marks)"
   ]
  },
  {
   "cell_type": "code",
   "execution_count": 7,
   "id": "e2196009",
   "metadata": {},
   "outputs": [
    {
     "name": "stdout",
     "output_type": "stream",
     "text": [
      "Kamal got 78.890000\n"
     ]
    }
   ],
   "source": [
    "print (\"%s got %f\"%('Kamal',marks))"
   ]
  },
  {
   "cell_type": "code",
   "execution_count": 8,
   "id": "f7fc6c99",
   "metadata": {},
   "outputs": [
    {
     "data": {
      "text/plain": [
       "78.89"
      ]
     },
     "execution_count": 8,
     "metadata": {},
     "output_type": "execute_result"
    }
   ],
   "source": [
    "marks"
   ]
  },
  {
   "cell_type": "code",
   "execution_count": 9,
   "id": "3d28ba9c",
   "metadata": {},
   "outputs": [
    {
     "name": "stdout",
     "output_type": "stream",
     "text": [
      "Kamal got 78.89\n"
     ]
    }
   ],
   "source": [
    "print (\"%s got %.2f\"%('Kamal',marks))"
   ]
  },
  {
   "cell_type": "code",
   "execution_count": 10,
   "id": "768abff0",
   "metadata": {},
   "outputs": [
    {
     "name": "stdout",
     "output_type": "stream",
     "text": [
      "Kamal got 56.90\n"
     ]
    }
   ],
   "source": [
    "print (\"%s got %.2f\"%('Kamal',56.899999))"
   ]
  },
  {
   "cell_type": "code",
   "execution_count": 11,
   "id": "64aeae9b",
   "metadata": {},
   "outputs": [
    {
     "name": "stdout",
     "output_type": "stream",
     "text": [
      "Kamal got 56.900\n"
     ]
    }
   ],
   "source": [
    "print (\"%s got %.3f\"%('Kamal',56.899999))"
   ]
  },
  {
   "cell_type": "code",
   "execution_count": 13,
   "id": "34b42ac8",
   "metadata": {},
   "outputs": [
    {
     "name": "stdout",
     "output_type": "stream",
     "text": [
      "24 56.780 lets upgrade\n"
     ]
    }
   ],
   "source": [
    "print (\"%d %.3f %s\"%(24,56.78,'lets upgrade'))"
   ]
  },
  {
   "cell_type": "code",
   "execution_count": 14,
   "id": "14cc1c46",
   "metadata": {},
   "outputs": [
    {
     "name": "stdout",
     "output_type": "stream",
     "text": [
      "24 56.780 lets upgrade\n"
     ]
    }
   ],
   "source": [
    "print (\"%s %.3f %s\"%(24,56.78,'lets upgrade'))"
   ]
  },
  {
   "cell_type": "code",
   "execution_count": 15,
   "id": "d49bca27",
   "metadata": {},
   "outputs": [
    {
     "ename": "TypeError",
     "evalue": "%d format: a number is required, not str",
     "output_type": "error",
     "traceback": [
      "\u001b[0;31m---------------------------------------------------------------------------\u001b[0m",
      "\u001b[0;31mTypeError\u001b[0m                                 Traceback (most recent call last)",
      "\u001b[0;32m<ipython-input-15-4272d227421d>\u001b[0m in \u001b[0;36m<module>\u001b[0;34m\u001b[0m\n\u001b[0;32m----> 1\u001b[0;31m \u001b[0mprint\u001b[0m \u001b[0;34m(\u001b[0m\u001b[0;34m\"%d %.3f %s\"\u001b[0m\u001b[0;34m%\u001b[0m\u001b[0;34m(\u001b[0m\u001b[0;34m'24'\u001b[0m\u001b[0;34m,\u001b[0m\u001b[0;36m56.78\u001b[0m\u001b[0;34m,\u001b[0m\u001b[0;34m'lets upgrade'\u001b[0m\u001b[0;34m)\u001b[0m\u001b[0;34m)\u001b[0m\u001b[0;34m\u001b[0m\u001b[0;34m\u001b[0m\u001b[0m\n\u001b[0m",
      "\u001b[0;31mTypeError\u001b[0m: %d format: a number is required, not str"
     ]
    }
   ],
   "source": [
    "print (\"%d %.3f %s\"%('24',56.78,'lets upgrade'))"
   ]
  },
  {
   "cell_type": "code",
   "execution_count": 16,
   "id": "fb324b6f",
   "metadata": {},
   "outputs": [
    {
     "data": {
      "text/plain": [
       "24"
      ]
     },
     "execution_count": 16,
     "metadata": {},
     "output_type": "execute_result"
    }
   ],
   "source": [
    "int('24')"
   ]
  },
  {
   "cell_type": "code",
   "execution_count": 18,
   "id": "cb12c942",
   "metadata": {},
   "outputs": [
    {
     "data": {
      "text/plain": [
       "'42 42 ,42 2a 2A 52'"
      ]
     },
     "execution_count": 18,
     "metadata": {},
     "output_type": "execute_result"
    }
   ],
   "source": [
    "\"%d %i ,%u %x %X %o\"%(42,42,42,42,42,42)"
   ]
  },
  {
   "cell_type": "code",
   "execution_count": 19,
   "id": "013bee94",
   "metadata": {},
   "outputs": [
    {
     "data": {
      "text/plain": [
       "'-42 -42 -42'"
      ]
     },
     "execution_count": 19,
     "metadata": {},
     "output_type": "execute_result"
    }
   ],
   "source": [
    "\"%d %i %u\"%(-42,-42,-42)"
   ]
  },
  {
   "cell_type": "code",
   "execution_count": 20,
   "id": "7af5ed41",
   "metadata": {},
   "outputs": [
    {
     "data": {
      "text/plain": [
       "'fc FC'"
      ]
     },
     "execution_count": 20,
     "metadata": {},
     "output_type": "execute_result"
    }
   ],
   "source": [
    "\"%x %X\"%(252,252)"
   ]
  },
  {
   "cell_type": "code",
   "execution_count": 21,
   "id": "9fdecbf6",
   "metadata": {},
   "outputs": [
    {
     "data": {
      "text/plain": [
       "'43 59'"
      ]
     },
     "execution_count": 21,
     "metadata": {},
     "output_type": "execute_result"
    }
   ],
   "source": [
    "\"%x %X\"%(67,89)"
   ]
  },
  {
   "cell_type": "code",
   "execution_count": 22,
   "id": "fba0963d",
   "metadata": {},
   "outputs": [
    {
     "data": {
      "text/plain": [
       "'3.141900 , 3.140000'"
      ]
     },
     "execution_count": 22,
     "metadata": {},
     "output_type": "execute_result"
    }
   ],
   "source": [
    "\"%f , %F\"%(3.1419,3.14)"
   ]
  },
  {
   "cell_type": "code",
   "execution_count": 23,
   "id": "d8cb1e47",
   "metadata": {},
   "outputs": [
    {
     "data": {
      "text/plain": [
       "'3.142 , 3.140'"
      ]
     },
     "execution_count": 23,
     "metadata": {},
     "output_type": "execute_result"
    }
   ],
   "source": [
    "\"%.3f , %.3F\"%(3.1419,3.14)"
   ]
  },
  {
   "cell_type": "code",
   "execution_count": 24,
   "id": "7886c1d7",
   "metadata": {},
   "outputs": [
    {
     "data": {
      "text/plain": [
       "'1.000000e+03 , 1.000000E+03 '"
      ]
     },
     "execution_count": 24,
     "metadata": {},
     "output_type": "execute_result"
    }
   ],
   "source": [
    "\"%e , %E \"%(1000.0,1000.0)"
   ]
  },
  {
   "cell_type": "code",
   "execution_count": null,
   "id": "f0f21f50",
   "metadata": {},
   "outputs": [],
   "source": []
  }
 ],
 "metadata": {
  "kernelspec": {
   "display_name": "Python 3",
   "language": "python",
   "name": "python3"
  },
  "language_info": {
   "codemirror_mode": {
    "name": "ipython",
    "version": 3
   },
   "file_extension": ".py",
   "mimetype": "text/x-python",
   "name": "python",
   "nbconvert_exporter": "python",
   "pygments_lexer": "ipython3",
   "version": "3.8.8"
  }
 },
 "nbformat": 4,
 "nbformat_minor": 5
}
